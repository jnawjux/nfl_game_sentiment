{
 "cells": [
  {
   "cell_type": "code",
   "execution_count": 1,
   "metadata": {},
   "outputs": [],
   "source": [
    "import got3 as got\n",
    "from vaderSentiment.vaderSentiment import SentimentIntensityAnalyzer"
   ]
  },
  {
   "cell_type": "code",
   "execution_count": 27,
   "metadata": {},
   "outputs": [],
   "source": [
    "tweetCriteria = got.manager.TweetCriteria()\\\n",
    "                   .setQuerySearch('Browns')\\\n",
    "                   .setSince(\"2019-09-16\")\\\n",
    "                   .setUntil(\"2019-09-17\")\\\n",
    "                   .setWithin('Cleveland, OH')\\\n",
    "                   .setTopTweets(True)\\\n",
    "                   .setMaxTweets(1000)\n",
    " \n",
    "tweets = got.manager.TweetManager.getTweets(tweetCriteria)"
   ]
  },
  {
   "cell_type": "code",
   "execution_count": 28,
   "metadata": {},
   "outputs": [
    {
     "name": "stdout",
     "output_type": "stream",
     "text": [
      "Let’s go # Browns\n"
     ]
    }
   ],
   "source": [
    "print(tweets[0].text)"
   ]
  },
  {
   "cell_type": "code",
   "execution_count": 29,
   "metadata": {},
   "outputs": [],
   "source": [
    "analyzer = SentimentIntensityAnalyzer()"
   ]
  },
  {
   "cell_type": "code",
   "execution_count": 30,
   "metadata": {},
   "outputs": [
    {
     "data": {
      "text/plain": [
       "-0.6486"
      ]
     },
     "execution_count": 30,
     "metadata": {},
     "output_type": "execute_result"
    }
   ],
   "source": [
    "analyzer.polarity_scores(tweets[1].text)['compound']"
   ]
  },
  {
   "cell_type": "markdown",
   "metadata": {},
   "source": [
    "From vaderSentiment docs:\n",
    "* positive sentiment: compound score >= 0.05\n",
    "* neutral sentiment: (compound score > -0.05) and (compound score < 0.05)\n",
    "* negative sentiment: compound score <= -0.05"
   ]
  },
  {
   "cell_type": "code",
   "execution_count": 33,
   "metadata": {},
   "outputs": [],
   "source": [
    "def team_sentiment(tweets):\n",
    "    analyzer = SentimentIntensityAnalyzer()\n",
    "    total_score = {'pos': 0, 'neg': 0, 'neu': 0}\n",
    "    for tweet in tweets:\n",
    "        score = analyzer.polarity_scores(tweet.text)['compound']\n",
    "        if score >= .05:\n",
    "            total_score['pos'] += 1\n",
    "        elif (score > -.05) & (score < .05):\n",
    "            total_score['neu'] += 1\n",
    "        else:\n",
    "            total_score['neg'] += 1 \n",
    "    sent_max = max(total_score.keys(), key=(lambda key: total_score[key]))\n",
    "    print(f\"{total_score[sent_max]/len(tweets)}% {sent_max}\")"
   ]
  },
  {
   "cell_type": "code",
   "execution_count": 34,
   "metadata": {},
   "outputs": [
    {
     "name": "stdout",
     "output_type": "stream",
     "text": [
      "0.484% neu\n"
     ]
    }
   ],
   "source": [
    "team_sentiment(tweets)"
   ]
  },
  {
   "cell_type": "code",
   "execution_count": 26,
   "metadata": {},
   "outputs": [
    {
     "data": {
      "text/plain": [
       "9024"
      ]
     },
     "execution_count": 26,
     "metadata": {},
     "output_type": "execute_result"
    }
   ],
   "source": [
    "import sys\n",
    "sys.getsizeof(tweets)"
   ]
  },
  {
   "cell_type": "code",
   "execution_count": null,
   "metadata": {},
   "outputs": [],
   "source": [
    "Thu 9/5 \t1\t2\t3\t4\tFINAL\n",
    "Green Bay (1-0) \t0\t7\t0\t3\t10\n",
    "Chicago (0-1) \t3\t0\t0\t0\t3"
   ]
  }
 ],
 "metadata": {
  "kernelspec": {
   "display_name": "Python 3",
   "language": "python",
   "name": "python3"
  },
  "language_info": {
   "codemirror_mode": {
    "name": "ipython",
    "version": 3
   },
   "file_extension": ".py",
   "mimetype": "text/x-python",
   "name": "python",
   "nbconvert_exporter": "python",
   "pygments_lexer": "ipython3",
   "version": "3.7.1"
  }
 },
 "nbformat": 4,
 "nbformat_minor": 2
}
