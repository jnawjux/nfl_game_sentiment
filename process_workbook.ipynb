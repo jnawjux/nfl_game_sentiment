{
 "cells": [
  {
   "cell_type": "code",
   "execution_count": 19,
   "metadata": {},
   "outputs": [],
   "source": [
    "import pandas as pd\n",
    "import got3 as got\n",
    "from vaderSentiment.vaderSentiment import SentimentIntensityAnalyzer"
   ]
  },
  {
   "cell_type": "code",
   "execution_count": 20,
   "metadata": {},
   "outputs": [],
   "source": [
    "nfl_teams = {'Phoenix, AZ': 'Cardinals', 'Falcons': 'Atlanta, GA', 'Baltimore, MD': 'Ravens', 'Buffalo, NY': 'Bills',\n",
    "'Charlotte, NC':'Panthers', 'Chicago, IL': 'Bears', 'Cincinnati, OH': 'Bengals', 'Cleveland, OH': 'Browns',\n",
    "'Dallas, TX' : 'Cowboys', 'Denver, CO': 'Broncos', 'Detroit, MI': 'Lions', 'Green Bay, WI': 'Packers',\n",
    "'Houston, TX': 'Texans', 'Indianapolis, IN': 'Colts', 'Jacksonville, FL': 'Jaguars', 'Kansas City, MO': 'Chiefs',\n",
    "'Los Angeles, CA': 'Chargers', 'Los Angeles, CA': 'Rams', 'Miami, FL': 'Dolphins', 'Minnesota': 'Vikings',\n",
    "'Boston, MA': 'Patriots', 'New Orleans, LA': 'Saints', 'New York, NY': 'Giants', 'New York, NY': 'Jets',\n",
    "'Oakland, CA': 'Raiders', 'Philadelphia, PA': 'Eagles', 'Pittsburgh, PA': 'Steelers', 'San Francisco, CA': '49ers',\n",
    "'Seattle, WA': 'Seahawks', 'Tampa Bay, FL': 'Buccaneers', 'Nashville, TN': 'Titans', 'Washington, D.C.': 'Redskins'}"
   ]
  },
  {
   "cell_type": "code",
   "execution_count": 64,
   "metadata": {},
   "outputs": [
    {
     "data": {
      "text/plain": [
       "{'Cardinals': 'Phoenix, AZ',\n",
       " 'Atlanta, GA': 'Falcons',\n",
       " 'Ravens': 'Baltimore, MD',\n",
       " 'Bills': 'Buffalo, NY',\n",
       " 'Panthers': 'Charlotte, NC',\n",
       " 'Bears': 'Chicago, IL',\n",
       " 'Bengals': 'Cincinnati, OH',\n",
       " 'Browns': 'Cleveland, OH',\n",
       " 'Cowboys': 'Dallas, TX',\n",
       " 'Broncos': 'Denver, CO',\n",
       " 'Lions': 'Detroit, MI',\n",
       " 'Packers': 'Green Bay, WI',\n",
       " 'Texans': 'Houston, TX',\n",
       " 'Colts': 'Indianapolis, IN',\n",
       " 'Jaguars': 'Jacksonville, FL',\n",
       " 'Chiefs': 'Kansas City, MO',\n",
       " 'Rams': 'Los Angeles, CA',\n",
       " 'Dolphins': 'Miami, FL',\n",
       " 'Vikings': 'Minnesota',\n",
       " 'Patriots': 'Boston, MA',\n",
       " 'Saints': 'New Orleans, LA',\n",
       " 'Jets': 'New York, NY',\n",
       " 'Raiders': 'Oakland, CA',\n",
       " 'Eagles': 'Philadelphia, PA',\n",
       " 'Steelers': 'Pittsburgh, PA',\n",
       " '49ers': 'San Francisco, CA',\n",
       " 'Seahawks': 'Seattle, WA',\n",
       " 'Buccaneers': 'Tampa Bay, FL',\n",
       " 'Titans': 'Nashville, TN',\n",
       " 'Redskins': 'Washington, D.C.'}"
      ]
     },
     "execution_count": 64,
     "metadata": {},
     "output_type": "execute_result"
    }
   ],
   "source": [
    "nfl = {v:k for k, v in nfl_teams.items()}\n",
    "nfl"
   ]
  },
  {
   "cell_type": "code",
   "execution_count": 33,
   "metadata": {},
   "outputs": [],
   "source": [
    "team_name = 'Browns'\n",
    "location = 'Cleveland, OH'\n",
    "start_date = '2019-09-01' \n",
    "end_date = '2019-09-05'"
   ]
  },
  {
   "cell_type": "code",
   "execution_count": 34,
   "metadata": {},
   "outputs": [
    {
     "data": {
      "text/plain": [
       "'2019-09-02'"
      ]
     },
     "execution_count": 34,
     "metadata": {},
     "output_type": "execute_result"
    }
   ],
   "source": [
    "(datetime.strptime(start_date, '%Y-%m-%d') + timedelta(days=1)).strftime(\"%Y-%m-%d\")"
   ]
  },
  {
   "cell_type": "code",
   "execution_count": 61,
   "metadata": {},
   "outputs": [],
   "source": [
    "def date_range(date1, date2):\n",
    "    dt1 = datetime.strptime(date1, '%Y-%m-%d') \n",
    "    dt2 = datetime.strptime(date2, '%Y-%m-%d') \n",
    "    for n in range(int((dt2 - dt1).days) + 1):\n",
    "        yield dt1 + timedelta(n)\n",
    "        \n",
    "def create_date_tuples(date1, date2):\n",
    "    from_date = [dt.strftime(\"%Y-%m-%d\") for dt in date_range(date1, date2)]\n",
    "    to_date = [dt.strftime(\"%Y-%m-%d\") for dt in date_range((datetime.strptime(date1, '%Y-%m-%d')\\\n",
    "                                                             + timedelta(days=1)).strftime(\"%Y-%m-%d\")\n",
    "                                                            ,(datetime.strptime(date2, '%Y-%m-%d')\\\n",
    "                                                             + timedelta(days=1)).strftime(\"%Y-%m-%d\"))]\n",
    "    return list(zip(from_date, to_date))"
   ]
  },
  {
   "cell_type": "code",
   "execution_count": 62,
   "metadata": {},
   "outputs": [
    {
     "name": "stdout",
     "output_type": "stream",
     "text": [
      "[('2019-09-01', '2019-09-02'), ('2019-09-02', '2019-09-03'), ('2019-09-03', '2019-09-04'), ('2019-09-04', '2019-09-05'), ('2019-09-05', '2019-09-06')]\n"
     ]
    }
   ],
   "source": [
    "print(create_date_tuples(start_date, end_date))"
   ]
  },
  {
   "cell_type": "code",
   "execution_count": 35,
   "metadata": {},
   "outputs": [
    {
     "ename": "KeyboardInterrupt",
     "evalue": "",
     "output_type": "error",
     "traceback": [
      "\u001b[0;31m---------------------------------------------------------------------------\u001b[0m",
      "\u001b[0;31mKeyboardInterrupt\u001b[0m                         Traceback (most recent call last)",
      "\u001b[0;32m<ipython-input-35-4c30ae3ace38>\u001b[0m in \u001b[0;36m<module>\u001b[0;34m\u001b[0m\n\u001b[1;32m      4\u001b[0m     \u001b[0msearch_days\u001b[0m\u001b[0;34m.\u001b[0m\u001b[0mappend\u001b[0m\u001b[0;34m(\u001b[0m\u001b[0;34m(\u001b[0m\u001b[0mstart_date\u001b[0m\u001b[0;34m,\u001b[0m \u001b[0mnext_day\u001b[0m\u001b[0;34m)\u001b[0m\u001b[0;34m)\u001b[0m\u001b[0;34m\u001b[0m\u001b[0;34m\u001b[0m\u001b[0m\n\u001b[1;32m      5\u001b[0m     \u001b[0mstart_day\u001b[0m \u001b[0;34m=\u001b[0m \u001b[0mnext_day\u001b[0m\u001b[0;34m\u001b[0m\u001b[0;34m\u001b[0m\u001b[0m\n\u001b[0;32m----> 6\u001b[0;31m     \u001b[0mnext_day\u001b[0m \u001b[0;34m=\u001b[0m \u001b[0;34m(\u001b[0m\u001b[0mdatetime\u001b[0m\u001b[0;34m.\u001b[0m\u001b[0mstrptime\u001b[0m\u001b[0;34m(\u001b[0m\u001b[0mstart_date\u001b[0m\u001b[0;34m,\u001b[0m \u001b[0;34m'%Y-%m-%d'\u001b[0m\u001b[0;34m)\u001b[0m \u001b[0;34m+\u001b[0m \u001b[0mtimedelta\u001b[0m\u001b[0;34m(\u001b[0m\u001b[0mdays\u001b[0m\u001b[0;34m=\u001b[0m\u001b[0;36m1\u001b[0m\u001b[0;34m)\u001b[0m\u001b[0;34m)\u001b[0m\u001b[0;34m.\u001b[0m\u001b[0mstrftime\u001b[0m\u001b[0;34m(\u001b[0m\u001b[0;34m\"%Y-%m-%d\"\u001b[0m\u001b[0;34m)\u001b[0m\u001b[0;34m\u001b[0m\u001b[0;34m\u001b[0m\u001b[0m\n\u001b[0m\u001b[1;32m      7\u001b[0m \u001b[0mprint\u001b[0m\u001b[0;34m(\u001b[0m\u001b[0msearch_days\u001b[0m\u001b[0;34m)\u001b[0m\u001b[0;34m\u001b[0m\u001b[0;34m\u001b[0m\u001b[0m\n",
      "\u001b[0;32m~/anaconda3/lib/python3.7/_strptime.py\u001b[0m in \u001b[0;36m_strptime_datetime\u001b[0;34m(cls, data_string, format)\u001b[0m\n\u001b[1;32m    575\u001b[0m     \"\"\"Return a class cls instance based on the input string and the\n\u001b[1;32m    576\u001b[0m     format string.\"\"\"\n\u001b[0;32m--> 577\u001b[0;31m     \u001b[0mtt\u001b[0m\u001b[0;34m,\u001b[0m \u001b[0mfraction\u001b[0m\u001b[0;34m,\u001b[0m \u001b[0mgmtoff_fraction\u001b[0m \u001b[0;34m=\u001b[0m \u001b[0m_strptime\u001b[0m\u001b[0;34m(\u001b[0m\u001b[0mdata_string\u001b[0m\u001b[0;34m,\u001b[0m \u001b[0mformat\u001b[0m\u001b[0;34m)\u001b[0m\u001b[0;34m\u001b[0m\u001b[0;34m\u001b[0m\u001b[0m\n\u001b[0m\u001b[1;32m    578\u001b[0m     \u001b[0mtzname\u001b[0m\u001b[0;34m,\u001b[0m \u001b[0mgmtoff\u001b[0m \u001b[0;34m=\u001b[0m \u001b[0mtt\u001b[0m\u001b[0;34m[\u001b[0m\u001b[0;34m-\u001b[0m\u001b[0;36m2\u001b[0m\u001b[0;34m:\u001b[0m\u001b[0;34m]\u001b[0m\u001b[0;34m\u001b[0m\u001b[0;34m\u001b[0m\u001b[0m\n\u001b[1;32m    579\u001b[0m     \u001b[0margs\u001b[0m \u001b[0;34m=\u001b[0m \u001b[0mtt\u001b[0m\u001b[0;34m[\u001b[0m\u001b[0;34m:\u001b[0m\u001b[0;36m6\u001b[0m\u001b[0;34m]\u001b[0m \u001b[0;34m+\u001b[0m \u001b[0;34m(\u001b[0m\u001b[0mfraction\u001b[0m\u001b[0;34m,\u001b[0m\u001b[0;34m)\u001b[0m\u001b[0;34m\u001b[0m\u001b[0;34m\u001b[0m\u001b[0m\n",
      "\u001b[0;32m~/anaconda3/lib/python3.7/_strptime.py\u001b[0m in \u001b[0;36m_strptime\u001b[0;34m(data_string, format)\u001b[0m\n\u001b[1;32m    327\u001b[0m \u001b[0;34m\u001b[0m\u001b[0m\n\u001b[1;32m    328\u001b[0m     \u001b[0;32mglobal\u001b[0m \u001b[0m_TimeRE_cache\u001b[0m\u001b[0;34m,\u001b[0m \u001b[0m_regex_cache\u001b[0m\u001b[0;34m\u001b[0m\u001b[0;34m\u001b[0m\u001b[0m\n\u001b[0;32m--> 329\u001b[0;31m     \u001b[0;32mwith\u001b[0m \u001b[0m_cache_lock\u001b[0m\u001b[0;34m:\u001b[0m\u001b[0;34m\u001b[0m\u001b[0;34m\u001b[0m\u001b[0m\n\u001b[0m\u001b[1;32m    330\u001b[0m         \u001b[0mlocale_time\u001b[0m \u001b[0;34m=\u001b[0m \u001b[0m_TimeRE_cache\u001b[0m\u001b[0;34m.\u001b[0m\u001b[0mlocale_time\u001b[0m\u001b[0;34m\u001b[0m\u001b[0;34m\u001b[0m\u001b[0m\n\u001b[1;32m    331\u001b[0m         if (_getlang() != locale_time.lang or\n",
      "\u001b[0;31mKeyboardInterrupt\u001b[0m: "
     ]
    }
   ],
   "source": [
    "next_day = [( + timedelta(days=1)).strftime(\"%Y-%m-%d\")\n",
    "search_days = []\n",
    "while next_day != end_date:\n",
    "    search_days.append((start_date, next_day))\n",
    "    start_day = next_day\n",
    "    next_day = (datetime.strptime(start_date, '%Y-%m-%d') + timedelta(days=1)).strftime(\"%Y-%m-%d\")\n",
    "print(search_days)"
   ]
  },
  {
   "cell_type": "code",
   "execution_count": 21,
   "metadata": {},
   "outputs": [
    {
     "ename": "NameError",
     "evalue": "name 'team_name' is not defined",
     "output_type": "error",
     "traceback": [
      "\u001b[0;31m---------------------------------------------------------------------------\u001b[0m",
      "\u001b[0;31mNameError\u001b[0m                                 Traceback (most recent call last)",
      "\u001b[0;32m<ipython-input-21-d6cab0d32de2>\u001b[0m in \u001b[0;36m<module>\u001b[0;34m\u001b[0m\n\u001b[1;32m      1\u001b[0m \u001b[0mtweetCriteria\u001b[0m \u001b[0;34m=\u001b[0m \u001b[0mgot\u001b[0m\u001b[0;34m.\u001b[0m\u001b[0mmanager\u001b[0m\u001b[0;34m.\u001b[0m\u001b[0mTweetCriteria\u001b[0m\u001b[0;34m(\u001b[0m\u001b[0;34m)\u001b[0m\u001b[0;31m\\\u001b[0m\u001b[0;34m\u001b[0m\u001b[0;34m\u001b[0m\u001b[0m\n\u001b[0;32m----> 2\u001b[0;31m                    \u001b[0;34m.\u001b[0m\u001b[0msetQuerySearch\u001b[0m\u001b[0;34m(\u001b[0m\u001b[0mteam_name\u001b[0m\u001b[0;34m)\u001b[0m\u001b[0;31m\\\u001b[0m\u001b[0;34m\u001b[0m\u001b[0;34m\u001b[0m\u001b[0m\n\u001b[0m\u001b[1;32m      3\u001b[0m                    \u001b[0;34m.\u001b[0m\u001b[0msetSince\u001b[0m\u001b[0;34m(\u001b[0m\u001b[0mstart_date\u001b[0m\u001b[0;34m)\u001b[0m\u001b[0;31m\\\u001b[0m\u001b[0;34m\u001b[0m\u001b[0;34m\u001b[0m\u001b[0m\n\u001b[1;32m      4\u001b[0m                    \u001b[0;34m.\u001b[0m\u001b[0msetUntil\u001b[0m\u001b[0;34m(\u001b[0m\u001b[0mend_date\u001b[0m\u001b[0;34m)\u001b[0m\u001b[0;31m\\\u001b[0m\u001b[0;34m\u001b[0m\u001b[0;34m\u001b[0m\u001b[0m\n\u001b[1;32m      5\u001b[0m                    \u001b[0;34m.\u001b[0m\u001b[0msetWithin\u001b[0m\u001b[0;34m(\u001b[0m\u001b[0mlocation\u001b[0m\u001b[0;34m)\u001b[0m\u001b[0;31m\\\u001b[0m\u001b[0;34m\u001b[0m\u001b[0;34m\u001b[0m\u001b[0m\n",
      "\u001b[0;31mNameError\u001b[0m: name 'team_name' is not defined"
     ]
    }
   ],
   "source": [
    "tweetCriteria = got.manager.TweetCriteria()\\\n",
    "                   .setQuerySearch(team_name)\\\n",
    "                   .setSince(start_date)\\\n",
    "                   .setUntil(end_date)\\\n",
    "                   .setWithin(location)\\\n",
    "                   .setTopTweets(True)\\\n",
    "                   .setMaxTweets(50)\n",
    " \n",
    "tweets = got.manager.TweetManager.getTweets(tweetCriteria)"
   ]
  },
  {
   "cell_type": "code",
   "execution_count": 8,
   "metadata": {},
   "outputs": [
    {
     "data": {
      "text/plain": [
       "datetime.datetime(2019, 9, 8, 16, 59, 52)"
      ]
     },
     "execution_count": 8,
     "metadata": {},
     "output_type": "execute_result"
    }
   ],
   "source": [
    "tweets[20].text\n",
    "tweets[20].date"
   ]
  },
  {
   "cell_type": "code",
   "execution_count": 59,
   "metadata": {},
   "outputs": [
    {
     "data": {
      "text/plain": [
       "0.296"
      ]
     },
     "execution_count": 59,
     "metadata": {},
     "output_type": "execute_result"
    }
   ],
   "source": [
    "analyzer = SentimentIntensityAnalyzer()\n",
    "analyzer.polarity_scores(tweets[1].text)['compound']"
   ]
  },
  {
   "cell_type": "code",
   "execution_count": 16,
   "metadata": {},
   "outputs": [],
   "source": [
    "def sentiment(tweets):\n",
    "    analyzer = SentimentIntensityAnalyzer()\n",
    "    total_score = {'Positive': 0, 'Negative': 0, 'Neutral': 0}\n",
    "    for tweet in tweets:\n",
    "        score = analyzer.polarity_scores(tweet.text)['compound']\n",
    "        if score >= .05:\n",
    "            total_score['Positive'] += 1\n",
    "        elif score <= -0.05:\n",
    "            total_score['Negative'] += 1 \n",
    "    return (round((total_score['Positive']/sum(total_score.values())) * 100, 2), \n",
    "           round((total_score['Negative']/sum(total_score.values())) * 100, 2))"
   ]
  },
  {
   "cell_type": "code",
   "execution_count": 102,
   "metadata": {},
   "outputs": [
    {
     "data": {
      "text/plain": [
       "(59.28, 40.72)"
      ]
     },
     "execution_count": 102,
     "metadata": {},
     "output_type": "execute_result"
    }
   ],
   "source": [
    "team_sentiment(tweets)"
   ]
  },
  {
   "cell_type": "code",
   "execution_count": 10,
   "metadata": {},
   "outputs": [
    {
     "data": {
      "text/plain": [
       "datetime.datetime(2019, 9, 7, 16, 59, 52)"
      ]
     },
     "execution_count": 10,
     "metadata": {},
     "output_type": "execute_result"
    }
   ],
   "source": [
    "from datetime import datetime, timedelta\n",
    "tweets[20].date - timedelta(days=1)"
   ]
  },
  {
   "cell_type": "code",
   "execution_count": 18,
   "metadata": {},
   "outputs": [],
   "source": [
    "file = open('csvfile.csv','w')\n",
    "file.write('date,pos,neg\\n')\n",
    "file.write(f\"{tweets[0].date},{sentiment(tweets)[0]},{sentiment(tweets)[1]}\")\n",
    "file.write('\\n')\n",
    "file.close()"
   ]
  },
  {
   "cell_type": "code",
   "execution_count": null,
   "metadata": {},
   "outputs": [],
   "source": [
    "while tweets[20].date > "
   ]
  },
  {
   "cell_type": "code",
   "execution_count": null,
   "metadata": {},
   "outputs": [],
   "source": [
    "date, team, pos, neg"
   ]
  }
 ],
 "metadata": {
  "kernelspec": {
   "display_name": "Python 3",
   "language": "python",
   "name": "python3"
  },
  "language_info": {
   "codemirror_mode": {
    "name": "ipython",
    "version": 3
   },
   "file_extension": ".py",
   "mimetype": "text/x-python",
   "name": "python",
   "nbconvert_exporter": "python",
   "pygments_lexer": "ipython3",
   "version": "3.7.1"
  }
 },
 "nbformat": 4,
 "nbformat_minor": 2
}
